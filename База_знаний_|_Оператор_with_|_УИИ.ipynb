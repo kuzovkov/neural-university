{
  "nbformat": 4,
  "nbformat_minor": 0,
  "metadata": {
    "colab": {
      "provenance": [],
      "include_colab_link": true
    },
    "kernelspec": {
      "name": "python3",
      "display_name": "Python 3"
    },
    "language_info": {
      "name": "python"
    }
  },
  "cells": [
    {
      "cell_type": "markdown",
      "metadata": {
        "id": "view-in-github",
        "colab_type": "text"
      },
      "source": [
        "<a href=\"https://colab.research.google.com/github/kuzovkov/neural-university/blob/main/%D0%91%D0%B0%D0%B7%D0%B0_%D0%B7%D0%BD%D0%B0%D0%BD%D0%B8%D0%B9_%7C_%D0%9E%D0%BF%D0%B5%D1%80%D0%B0%D1%82%D0%BE%D1%80_with_%7C_%D0%A3%D0%98%D0%98.ipynb\" target=\"_parent\"><img src=\"https://colab.research.google.com/assets/colab-badge.svg\" alt=\"Open In Colab\"/></a>"
      ]
    },
    {
      "cell_type": "markdown",
      "metadata": {
        "id": "bGrMiag8A1Tm"
      },
      "source": [
        "## Оператор **with** и запись в файл"
      ]
    },
    {
      "cell_type": "markdown",
      "metadata": {
        "id": "f9T6ZEnmEeNC"
      },
      "source": [
        "Оператор `with` в Python используется при обработке исключений, чтобы сделать код более понятным и читабельным. Это упрощает управление общими ресурсами, такими как файловые потоки.\n",
        "\n",
        "Предположим, необходимо создать файл со строкой внутри. Сделать это можно следующим образом:\n",
        "\n",
        "1. Открытие (создание) файла для записи\n",
        "2. Запись строки в файл\n",
        "3. Закрытие файла\n",
        "\n",
        "Если в режиме записи (`'w'`) файла нет, то `open()` автоматически создает его."
      ]
    },
    {
      "cell_type": "code",
      "metadata": {
        "id": "svSiMPuGES8M"
      },
      "source": [
        "# Открытие файла для записи\n",
        "file = open('my_file.txt', 'w')"
      ],
      "execution_count": null,
      "outputs": []
    },
    {
      "cell_type": "code",
      "metadata": {
        "id": "5teEZ-jjcTtW"
      },
      "source": [
        "# Запись строки в файл\n",
        "file.write('Hello, world!')\n",
        "\n",
        "# Закрытие файла\n",
        "file.close()"
      ],
      "execution_count": null,
      "outputs": []
    },
    {
      "cell_type": "markdown",
      "metadata": {
        "id": "YcspKcwJ1_cU"
      },
      "source": [
        "Проверка содержания файла командой `!cat`:"
      ]
    },
    {
      "cell_type": "code",
      "metadata": {
        "colab": {
          "base_uri": "https://localhost:8080/"
        },
        "id": "kF3XWrq219sA",
        "outputId": "8601246d-d9f1-42c2-b44d-79d55cd68e6a"
      },
      "source": [
        "!cat my_file.txt"
      ],
      "execution_count": null,
      "outputs": [
        {
          "output_type": "stream",
          "name": "stdout",
          "text": [
            "Hello, world!"
          ]
        }
      ]
    },
    {
      "cell_type": "markdown",
      "metadata": {
        "id": "IjKxumrsGBxw"
      },
      "source": [
        "> Закрывать файл необходимо. Иначе в коде могут возникнуть ошибки, а многие изменения в файле не вступят в силу.\n",
        "\n",
        "Между открытием и закрытием файла – например, при записи строки `file.write('Hello, world!')` – может произойти непредвиденная ошибка (да, в данном простом примере это навряд-ли, но ошибки как раз-таки и возникают там, где их не ждешь). Тогда компилятор попросту не дойдет до закрытия файла.\n",
        "\n",
        "* Что же с этим делать?\n",
        "\n",
        "Можно воспользоваться конструкцией try-finally:\n"
      ]
    },
    {
      "cell_type": "code",
      "metadata": {
        "id": "BODHGCEVUNsB"
      },
      "source": [
        "# Открытие файла для записи\n",
        "file = open('my_file.txt', 'w')\n",
        "\n",
        "# Попытаться записать строку в файл\n",
        "try:\n",
        "  file.write('Hello, world!')\n",
        "\n",
        "# В любом случае закрыть файл\n",
        "finally:\n",
        "  file.close()"
      ],
      "execution_count": null,
      "outputs": []
    },
    {
      "cell_type": "markdown",
      "metadata": {
        "id": "XOXHxCGG2Fg-"
      },
      "source": [
        "Проверка содержания файла:"
      ]
    },
    {
      "cell_type": "code",
      "metadata": {
        "colab": {
          "base_uri": "https://localhost:8080/"
        },
        "id": "rIHEADsh2DuE",
        "outputId": "821c3508-3118-4a82-bb8d-c0931f2d6228"
      },
      "source": [
        "!cat my_file.txt"
      ],
      "execution_count": null,
      "outputs": [
        {
          "output_type": "stream",
          "name": "stdout",
          "text": [
            "Hello, world!"
          ]
        }
      ]
    },
    {
      "cell_type": "markdown",
      "metadata": {
        "id": "zH9yuEcDThxo"
      },
      "source": [
        "В таком случае при возникновении ошибки в теле `try` закрытие файла все равно произойдет.\n",
        "\n",
        "> Вопрос: *Зачем нужен `finally`? Разве недостаточно просто `try`?*<br>\n",
        "Ответ: `try` – это часть *конструкции*. Это значит, что `try` употребляется в связке с другими ключевыми словами  – `except` или `finally`. Без них компилятор выдаст синтаксическую ошибку.\n",
        "\n",
        "Однако есть более лаконичный вариант с использованием `with`."
      ]
    },
    {
      "cell_type": "code",
      "metadata": {
        "id": "Rk-AnuBBThHL"
      },
      "source": [
        "# Открыть файл для записи и закрыть его после выполнения тела with\n",
        "with open('my_file.txt', 'w') as file:\n",
        "\n",
        "  # Запись строку в файл\n",
        "  file.write('Hello, world!')"
      ],
      "execution_count": null,
      "outputs": []
    },
    {
      "cell_type": "markdown",
      "metadata": {
        "id": "FcukS5OG2G1u"
      },
      "source": [
        "Проверка содержания файла:"
      ]
    },
    {
      "cell_type": "code",
      "metadata": {
        "colab": {
          "base_uri": "https://localhost:8080/"
        },
        "id": "5GALpRJC2H8u",
        "outputId": "e020bbe8-e22f-49d4-d467-615ec2858e3c"
      },
      "source": [
        "!cat my_file.txt"
      ],
      "execution_count": null,
      "outputs": [
        {
          "output_type": "stream",
          "name": "stdout",
          "text": [
            "Hello, world!"
          ]
        }
      ]
    },
    {
      "cell_type": "markdown",
      "metadata": {
        "id": "O30rp90CTe-N"
      },
      "source": [
        "С `with` не приходится прописывать закрытие. Файл записывается в переменную, указанную после ключевого слова `as`. Закрытие файла \"заложено\" во внутрь `with` и безусловно происходит после выполнения тела `with`. Таким образом можно не думать о проблеме незакрытого файла, а код становится красивей.\n",
        "\n",
        "> Использование оператора `with` делает код более чистым и безопасным.\n",
        "\n",
        "Сама инструкция `with` обеспечивает правильное получение и высвобождение ресурсов. Исключение во время вызова `file.write()` в первой реализации может помешать правильному закрытию файла, что может привести к нескольким ошибкам в коде, т.е. многие изменения в файлах не вступят в силу, пока файл не будет должным образом закрыт.\n",
        "\n",
        "Таким образом, оператор `with` помогает избежать ошибок и утечек, гарантируя, что ресурс правильно высвобождается, когда код, использующий ресурс, полностью выполняется."
      ]
    },
    {
      "cell_type": "markdown",
      "metadata": {
        "id": "KfRwriSuiOeh"
      },
      "source": [
        "## Контекстный менеджер"
      ]
    },
    {
      "cell_type": "markdown",
      "metadata": {
        "id": "oCvDjmU7ioEb"
      },
      "source": [
        "В `open()` нет ничего особенного, что позволяет использовать его (и только его) с оператором `with`. Этот тип объекта еще называют *контекстным менеджером*. Контекстный он потому, что в теле `with` открытие файла подразумевает его закрытие, а значит, выполняется автоматически, \"под капотом\".\n",
        "\n",
        "Можно написать собственный объект, поддерживаемый `with`. Поддержка оператора `with` в ваших объектах гарантирует, что вы никогда не оставите какие-либо ресурсы открытыми.\n",
        "\n",
        "Чтобы использовать оператор `with` в пользовательском контекстном менеджере, вам нужно только добавить реализации методов `__enter __()` и `__exit __()` в объект. Для дальнейшего пояснения рассмотрим следующий пример."
      ]
    },
    {
      "cell_type": "code",
      "metadata": {
        "id": "ieznVciGF7oa"
      },
      "source": [
        "# Простой объект записи файла\n",
        "class OwnFileWriter:\n",
        "\n",
        "  # Метод инициализации принимает на вход путь к файлу\n",
        "  def __init__(self, file_name):\n",
        "\n",
        "    # Сохранение пути к файлу в поле класса\n",
        "    self.file_name = file_name\n",
        "\n",
        "  # Метод контекста выполнения\n",
        "  def __enter__(self):\n",
        "\n",
        "    # Инициализация нового поля класса файлом в режиме записи\n",
        "    self.file = open(self.file_name, 'w')\n",
        "\n",
        "    # Возвращаемое значение присваивается переменной, следующей после as\n",
        "    return self.file\n",
        "\n",
        "  # Метод контекста закрытия тела with.\n",
        "  def __exit__(self, exc_type, exc_value, traceback):\n",
        "\n",
        "    # Закрытие файла\n",
        "    self.file.close()"
      ],
      "execution_count": null,
      "outputs": []
    },
    {
      "cell_type": "markdown",
      "metadata": {
        "id": "U1cLkSdOF28Z"
      },
      "source": [
        "Здесь:\n",
        "* `exc_type` – тип зафиксированного исключения, либо None.\n",
        "\n",
        "* `exc_value` – объект зафиксированного исключения, либо None.\n",
        "\n",
        "* `traceback` – трассировка стека для зафиксированного исключения, либо None.\n",
        "\n",
        "Без этих 3-х аргументов в объявлении функции возникает ошибка, поэтому их нужно объявлять.\n",
        "\n",
        "При использовании инструкции `with` результат работы метода `__enter__()`, будет доступен в части `as`.\n",
        "\n",
        "Теперь собственный контекстный менеджер готов к использованию с `with`."
      ]
    },
    {
      "cell_type": "code",
      "metadata": {
        "id": "NYsISIeCjkCG"
      },
      "source": [
        "with OwnFileWriter('my_file.txt') as file:\n",
        "    file.write('Hello, world!')"
      ],
      "execution_count": null,
      "outputs": []
    },
    {
      "cell_type": "markdown",
      "metadata": {
        "id": "c62Ze1mFzzyp"
      },
      "source": [
        "Проверим содержимое файла:"
      ]
    },
    {
      "cell_type": "code",
      "metadata": {
        "colab": {
          "base_uri": "https://localhost:8080/"
        },
        "id": "CZQn4IpRwUz2",
        "outputId": "5f73754a-9d20-4172-dc5a-70b11f71d025"
      },
      "source": [
        "!cat my_file.txt"
      ],
      "execution_count": null,
      "outputs": [
        {
          "output_type": "stream",
          "name": "stdout",
          "text": [
            "Hello, world!"
          ]
        }
      ]
    }
  ]
}