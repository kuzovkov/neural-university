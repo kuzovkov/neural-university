{
  "nbformat": 4,
  "nbformat_minor": 0,
  "metadata": {
    "colab": {
      "provenance": [],
      "include_colab_link": true
    },
    "kernelspec": {
      "name": "python3",
      "display_name": "Python 3"
    },
    "language_info": {
      "name": "python"
    }
  },
  "cells": [
    {
      "cell_type": "markdown",
      "metadata": {
        "id": "view-in-github",
        "colab_type": "text"
      },
      "source": [
        "<a href=\"https://colab.research.google.com/github/kuzovkov/neural-university/blob/main/%D0%91%D0%B0%D0%B7%D0%B0_%D0%B7%D0%BD%D0%B0%D0%BD%D0%B8%D0%B9_%7C_%D0%9C%D0%BE%D0%B4%D1%83%D0%BB%D1%8C_Pickle_%7C_%D0%A3%D0%98%D0%98.ipynb\" target=\"_parent\"><img src=\"https://colab.research.google.com/assets/colab-badge.svg\" alt=\"Open In Colab\"/></a>"
      ]
    },
    {
      "cell_type": "markdown",
      "metadata": {
        "id": "pMan3PqHzHlR"
      },
      "source": [
        "# Модуль Pickle\n",
        "\n",
        "---\n",
        "\n"
      ]
    },
    {
      "cell_type": "markdown",
      "metadata": {
        "id": "VuLAYUP0w6Ho"
      },
      "source": [
        " Модуль Pickle используется разработчиками для сериализации/десериализации объектов в языке Python и представлении этих объектов в последовательность байтов.\n",
        " Главная идея состоит в том, что сериализованный формат — это набор байт или строк, который можно легко сохранить на диск или передать другому процессу или, например, по сети, в отличие от самого объекта. А значит, задача сохранения объекта/группы объектов при этом сводится к простой задаче сохранения набора байт или строк.\n",
        "\n",
        " Типы данных которые Pickle умеет запаковывать:\n",
        "*   None, True, False\n",
        "*   Строки (обычные или Юникод)\n",
        "*   Стандартные числовые типы данных\n",
        "*   Словари, списки, кортежи\n",
        "*   Функции\n",
        "*   Классы"
      ]
    },
    {
      "cell_type": "markdown",
      "metadata": {
        "id": "xO5j4H9jz8d0"
      },
      "source": [
        "## Пример использования модуля Pickle для датасета \"Трафик сайтов\"."
      ]
    },
    {
      "cell_type": "code",
      "metadata": {
        "colab": {
          "base_uri": "https://localhost:8080/",
          "height": 35
        },
        "id": "y4uS9TwyQxyG",
        "outputId": "2ba24500-886c-42bf-f0ec-6cf774f48964"
      },
      "source": [
        "# Библиотека для скачивания файлов из google drive\n",
        "import gdown\n",
        "\n",
        "url = \"https://storage.googleapis.com/terra_ai/DataSets/traff.csv\"  # Ссылка на датасет Трафик сайтов\n",
        "output = \"traffic.csv\"                                              # Название файла после скачивания\n",
        "gdown.download(url, output, quiet=True)                             # Скачивание файла"
      ],
      "execution_count": null,
      "outputs": [
        {
          "output_type": "execute_result",
          "data": {
            "application/vnd.google.colaboratory.intrinsic+json": {
              "type": "string"
            },
            "text/plain": [
              "'traffic.csv'"
            ]
          },
          "metadata": {},
          "execution_count": 2
        }
      ]
    },
    {
      "cell_type": "code",
      "metadata": {
        "colab": {
          "base_uri": "https://localhost:8080/",
          "height": 205
        },
        "id": "1r5gRv-xVclY",
        "outputId": "ca02e681-062b-4d4b-e791-dc63c63def31"
      },
      "source": [
        "# Импорт библиотеки Pandas\n",
        "import pandas as pd\n",
        "\n",
        "pd.read_csv(\"/content/traffic.csv\").head(5)                         # Смотрим содержимое базы"
      ],
      "execution_count": null,
      "outputs": [
        {
          "output_type": "execute_result",
          "data": {
            "text/html": [
              "<div>\n",
              "<style scoped>\n",
              "    .dataframe tbody tr th:only-of-type {\n",
              "        vertical-align: middle;\n",
              "    }\n",
              "\n",
              "    .dataframe tbody tr th {\n",
              "        vertical-align: top;\n",
              "    }\n",
              "\n",
              "    .dataframe thead th {\n",
              "        text-align: right;\n",
              "    }\n",
              "</style>\n",
              "<table border=\"1\" class=\"dataframe\">\n",
              "  <thead>\n",
              "    <tr style=\"text-align: right;\">\n",
              "      <th></th>\n",
              "      <th>1/1/2017</th>\n",
              "      <th>22,226.00</th>\n",
              "    </tr>\n",
              "  </thead>\n",
              "  <tbody>\n",
              "    <tr>\n",
              "      <th>0</th>\n",
              "      <td>1/2/2017</td>\n",
              "      <td>29,593.00</td>\n",
              "    </tr>\n",
              "    <tr>\n",
              "      <th>1</th>\n",
              "      <td>1/3/2017</td>\n",
              "      <td>31,726.00</td>\n",
              "    </tr>\n",
              "    <tr>\n",
              "      <th>2</th>\n",
              "      <td>1/4/2017</td>\n",
              "      <td>32,684.00</td>\n",
              "    </tr>\n",
              "    <tr>\n",
              "      <th>3</th>\n",
              "      <td>1/5/2017</td>\n",
              "      <td>31,820.00</td>\n",
              "    </tr>\n",
              "    <tr>\n",
              "      <th>4</th>\n",
              "      <td>1/6/2017</td>\n",
              "      <td>29,354.00</td>\n",
              "    </tr>\n",
              "  </tbody>\n",
              "</table>\n",
              "</div>"
            ],
            "text/plain": [
              "   1/1/2017  22,226.00\n",
              "0  1/2/2017  29,593.00\n",
              "1  1/3/2017  31,726.00\n",
              "2  1/4/2017  32,684.00\n",
              "3  1/5/2017  31,820.00\n",
              "4  1/6/2017  29,354.00"
            ]
          },
          "metadata": {},
          "execution_count": 3
        }
      ]
    },
    {
      "cell_type": "markdown",
      "metadata": {
        "id": "1KleQ6IseEjN"
      },
      "source": [
        "Теперь делаем сериализацию объекта с помощью модуля Pickle."
      ]
    },
    {
      "cell_type": "code",
      "metadata": {
        "id": "NvkPwjR9bgH0"
      },
      "source": [
        "# Импорт модуля pickle\n",
        "import pickle as pkl"
      ],
      "execution_count": null,
      "outputs": []
    },
    {
      "cell_type": "markdown",
      "metadata": {
        "id": "5ozhtDHreV5z"
      },
      "source": [
        "Чтобы сделать сериализацию объекта в формат .pkl используется метод pickle.dump().\n",
        "Для этого необходимо открыть файл для записи и перенести в этот файл наш объект."
      ]
    },
    {
      "cell_type": "code",
      "metadata": {
        "id": "BJHz4Wu6eRfO"
      },
      "source": [
        "HOME = '/content/'    # Задаем основную дирикторию\n",
        "file_name = 'traffic' # Название будущего файла в новом формате\n",
        "\n",
        "with open(f'{HOME}{file_name}.pkl', \"wb\") as f: # Открывем файл в формате чтение и запись\n",
        "    pkl.dump(HOME + \"traffic.csv\", f)           # Записываем сериализованный объект"
      ],
      "execution_count": null,
      "outputs": []
    },
    {
      "cell_type": "markdown",
      "metadata": {
        "id": "cO4RptnYexi3"
      },
      "source": [
        "Для того чтобы загрузить и использовать этот объект для работы над проектом, используется метод pickle.load().\n",
        "Для этого открывается файл для чтения и вызывается метод pickle.load().\n",
        "Так как наш объект в формате .csv, мы можем его прочитать с помощью библиотеки Pandas."
      ]
    },
    {
      "cell_type": "code",
      "metadata": {
        "colab": {
          "base_uri": "https://localhost:8080/",
          "height": 205
        },
        "id": "bgusVfXgca67",
        "outputId": "b05d7f00-f2e4-4b1d-e1ca-84a937820ddb"
      },
      "source": [
        "with open(f'{HOME}{file_name}.pkl', \"rb\") as f: # Открываем файл для чтения\n",
        "    traffic_pkl = pkl.load(f)     # Загружаем объект из файла\n",
        "    df = pd.read_csv(traffic_pkl) # Переводим в DataFrame для дальнейшей работы с датасетом\n",
        "\n",
        "df.head(5) # Первые 5 строк датасета"
      ],
      "execution_count": null,
      "outputs": [
        {
          "output_type": "execute_result",
          "data": {
            "text/html": [
              "<div>\n",
              "<style scoped>\n",
              "    .dataframe tbody tr th:only-of-type {\n",
              "        vertical-align: middle;\n",
              "    }\n",
              "\n",
              "    .dataframe tbody tr th {\n",
              "        vertical-align: top;\n",
              "    }\n",
              "\n",
              "    .dataframe thead th {\n",
              "        text-align: right;\n",
              "    }\n",
              "</style>\n",
              "<table border=\"1\" class=\"dataframe\">\n",
              "  <thead>\n",
              "    <tr style=\"text-align: right;\">\n",
              "      <th></th>\n",
              "      <th>1/1/2017</th>\n",
              "      <th>22,226.00</th>\n",
              "    </tr>\n",
              "  </thead>\n",
              "  <tbody>\n",
              "    <tr>\n",
              "      <th>0</th>\n",
              "      <td>1/2/2017</td>\n",
              "      <td>29,593.00</td>\n",
              "    </tr>\n",
              "    <tr>\n",
              "      <th>1</th>\n",
              "      <td>1/3/2017</td>\n",
              "      <td>31,726.00</td>\n",
              "    </tr>\n",
              "    <tr>\n",
              "      <th>2</th>\n",
              "      <td>1/4/2017</td>\n",
              "      <td>32,684.00</td>\n",
              "    </tr>\n",
              "    <tr>\n",
              "      <th>3</th>\n",
              "      <td>1/5/2017</td>\n",
              "      <td>31,820.00</td>\n",
              "    </tr>\n",
              "    <tr>\n",
              "      <th>4</th>\n",
              "      <td>1/6/2017</td>\n",
              "      <td>29,354.00</td>\n",
              "    </tr>\n",
              "  </tbody>\n",
              "</table>\n",
              "</div>"
            ],
            "text/plain": [
              "   1/1/2017  22,226.00\n",
              "0  1/2/2017  29,593.00\n",
              "1  1/3/2017  31,726.00\n",
              "2  1/4/2017  32,684.00\n",
              "3  1/5/2017  31,820.00\n",
              "4  1/6/2017  29,354.00"
            ]
          },
          "metadata": {},
          "execution_count": 6
        }
      ]
    },
    {
      "cell_type": "markdown",
      "metadata": {
        "id": "B1hFB3Ggfgrs"
      },
      "source": [
        "Разница в объеме памяти которое занимает файл в формате .csv и .pkl"
      ]
    },
    {
      "cell_type": "code",
      "metadata": {
        "colab": {
          "base_uri": "https://localhost:8080/"
        },
        "id": "qLk-XyjmfJHD",
        "outputId": "a173db97-6f2a-4847-f8bd-5bbb688980ba"
      },
      "source": [
        "# Импорт библиотеки OS\n",
        "import os\n",
        "pkl_size = int(os.path.getsize(\"/content/traffic.pkl\"))                              # Получаем размер файла в формате .pkl\n",
        "csv_size = int(os.path.getsize(\"/content/traffic.csv\"))                              # Получаем размер файла в формате .pkl\n",
        "\n",
        "print(\"Размер файла в формате pkl:\", pkl_size, \"баит\")                               # Размер файла в формате .pkl\n",
        "print(\"Размер файла в формате csv:\", csv_size, \"баит\")                               # Размер файла в формате .pkl\n",
        "print(\"В\", csv_size / pkl_size, \"раз файл в формате pkl меньше файла в формате csv\") # Разниза между объемом памяти"
      ],
      "execution_count": null,
      "outputs": [
        {
          "output_type": "stream",
          "name": "stdout",
          "text": [
            "Размер файла в формате pkl: 30 баит\n",
            "Размер файла в формате csv: 25137 баит\n",
            "В 837.9 раз файл в формате pkl меньше файла в формате csv\n"
          ]
        }
      ]
    }
  ]
}